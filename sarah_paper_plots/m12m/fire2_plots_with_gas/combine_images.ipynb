{
 "cells": [
  {
   "cell_type": "code",
   "execution_count": 4,
   "metadata": {},
   "outputs": [
    {
     "ename": "SyntaxError",
     "evalue": "invalid syntax (<ipython-input-4-ac4bbca2c549>, line 18)",
     "output_type": "error",
     "traceback": [
      "\u001b[0;36m  File \u001b[0;32m\"<ipython-input-4-ac4bbca2c549>\"\u001b[0;36m, line \u001b[0;32m18\u001b[0m\n\u001b[0;31m    images_to_combine.append(imagename)\u001b[0m\n\u001b[0m                    ^\u001b[0m\n\u001b[0;31mSyntaxError\u001b[0m\u001b[0;31m:\u001b[0m invalid syntax\n"
     ]
    }
   ],
   "source": [
    "#this is the code to select images from the same snapshot of the given list of simtypes\n",
    "#and combine them into a single image.\n",
    "#we would use the combined image of each snapshot from each simtypes to create a GIF\n",
    "import sys\n",
    "from PIL import Image\n",
    "snapshots=[\"586\",\"650\",\"696\"]\n",
    "total_sims=len(snapshots)\n",
    "cols=2      #choose this manually\n",
    "rows=total_sims//cols\n",
    "rows=rows+total_sims%cols\n",
    "#print(rows)\n",
    "images_to_combine=[]\n",
    "image_name_infix=\"fire2_m12m_gas_and_clusters\" #this is how image names are similar\n",
    "total_snaps=snapshot_end-snapshot_start\n",
    "\n",
    "for i in range (total_sims): #do for all snapshot images\n",
    "    imagename=\"./\"+image_name_infix+str(snapshots[i]+\".png\"\n",
    "    images_to_combine.append(imagename)\n",
    "    #created the list of images to combine from each simtype for the given snapshot\n",
    "images = [Image.open(x) for x in images_to_combine]\n",
    "    #opened the images and stored to a list images\n",
    "    #print((images))\n",
    "widths, heights = zip(*(d.size for d in images)) # separting the width and height pair for each image \n",
    "    #images[0].size would give the dimension of the first image as (1556, 1061) \n",
    "    #this code takes the first values of the dimension of all images to widths and second value to heights\n",
    "print(widths)\n",
    "print(widths[1])\n",
    "    #total_width = sum(widths) #total width of the combined image\n",
    "total_width = widths[0]+widths[1]\n",
    "max_height = max(heights)*rows #total height of the combined image\n",
    "new_im = Image.new('RGB', (total_width, max_height))\n",
    "y_offset=0  #it will determine the y position\n",
    "    #print(y_offset)\n",
    "image_count=0\n",
    "    for r in range(rows):\n",
    "        x_offset =0 #it will determine the xposition\n",
    "        for c in range(cols):\n",
    "            #print(\"c is:\",c)\n",
    "            new_im.paste(images[image_count], (x_offset,y_offset)) #put each image to given location\n",
    "            x_offset += images[image_count].size[0] #shifting the x position for the colum\n",
    "            #print(\"image_count is:\",image_count)\n",
    "            image_count+=1        \n",
    "        y_offset= images[image_count-1].size[1] #y position shifed only once (may need edit)\n",
    "    combined_im_name=\"2x2fire2_sffire3_alpha_3and5_combined\"+str(i+snapshot_start)+\".png\"\n",
    "    print(\"Created a combined image and saved as:\",combined_im_name,end=\"\\r\",flush=True)\n",
    "    new_im.save(combined_im_name) #saved the combined image"
   ]
  }
 ],
 "metadata": {
  "kernelspec": {
   "display_name": "Python 3",
   "language": "python",
   "name": "python3"
  },
  "language_info": {
   "codemirror_mode": {
    "name": "ipython",
    "version": 3
   },
   "file_extension": ".py",
   "mimetype": "text/x-python",
   "name": "python",
   "nbconvert_exporter": "python",
   "pygments_lexer": "ipython3",
   "version": "3.7.6"
  }
 },
 "nbformat": 4,
 "nbformat_minor": 4
}
