{
 "cells": [
  {
   "cell_type": "code",
   "execution_count": 5,
   "metadata": {},
   "outputs": [
    {
     "name": "stdout",
     "output_type": "stream",
     "text": [
      "These are the initial mass of each star in the cluster [73916.7080078125, 41168.5, 56215.1044921875, 56894.609375]\n",
      "########################## TEST: This is cluster data from first cluster {'cluster_groupid': 1, 'no_of_star': 5, 'id': array([ 69249076, 113841844,  38844531,  76321021,  19069093],\n",
      "      dtype=uint32), 'id_children': array([0, 0, 0, 0, 0], dtype=uint32), 'is_embedded': False, 'xcm': -2.7065806433987616, 'ycm': 5.493193911741977, 'zcm': 0.08334805225085126, 'mtot': 73916.7080078125, 'r90': 0.0031252204755780255, 'r50': 0.0031086293971461405, 'rmax': 0.0035162915161754855}\n",
      "####################### Total clusters present is 4\n",
      "####################### Total associations present is 39\n"
     ]
    }
   ],
   "source": [
    "##########################################################################\n",
    "##########################################################################\n",
    "#This file is designed to plot animation of all 17 clusters using the file total_data_all_clusters_all_snapshots.pkl that contains tracked data of all clusters\n",
    "\n",
    "from matplotlib import pyplot as plt\n",
    "import numpy as np\n",
    "from mpl_toolkits.mplot3d import Axes3D\n",
    "import os\n",
    "import pickle\n",
    "import matplotlib\n",
    "import matplotlib.colors as colors\n",
    "from matplotlib import rc #to use Latex math symbols like 'phi'\n",
    "import astropy\n",
    "from astropy.io import ascii\n",
    "from sl_utilities import distance_functions\n",
    "import astropy\n",
    "from astropy.io import ascii\n",
    "import matplotlib\n",
    "import pdb\n",
    "from importlib import reload\n",
    "\n",
    "matplotlib.rcParams['pdf.fonttype'] = 42\n",
    "matplotlib.rcParams['xtick.labelsize'] = 12\n",
    "matplotlib.rcParams['ytick.labelsize'] = 12\n",
    "matplotlib.rc('text', usetex=False)\n",
    "#############################################################################\n",
    "#constants\n",
    "#############################################################################\n",
    "\n",
    "MsunToGm = 1.99e33\n",
    "KpcToCm = 3.086e21\n",
    "mp = 1.67e-24\n",
    "#bin_edge = 10.\n",
    "bin_edge = 30.\n",
    "\n",
    "bins = np.arange(-25,25,0.1)\n",
    "\n",
    "############################################################################\n",
    "#read in sim files and find relevant particles\n",
    "############################################################################\n",
    "#STAMPEDE\n",
    "simname = 'm12m_res7100_mhdcv'\n",
    "simtype=\"fire2\"\n",
    "snap=650 #this is the snapshot at which the clusters were taken from using the fof algorithm I am using this to extract information from the snapshot where the clusters were first seen\n",
    "filename_gmc = 'cloud_props_m12m_mhd_stamp_fire2650.txt'\n",
    "#simdir = '/scratch/projects/xsede/GalaxiesOnFIRE/mhdcv/m12i_res7100_mhdcv/1Myr/sf-fire3/'\n",
    "datapath=\"./\"+simtype+\"_data_pkl/\" #this is teh path where the data of our tracked clusters is\n",
    "gas_datapath=\"./\"+simtype+\"_gas_data_pkl/\"\n",
    "dirname_gmc = './' #change this! \n",
    "\n",
    "plot_path=\"./\"+simtype+\"_plots_with_gas/\" #creating a path to store the plots only if it does not exist\n",
    "if not os.path.exists(plot_path):\n",
    "  os.makedirs(plot_path)\n",
    "\n",
    "###############################\n",
    "##############################\n",
    "#load gmc catalog data\n",
    "data_gmc  = astropy.io.ascii.read(dirname_gmc+filename_gmc) #data_gmc.keys() #to see content\n",
    "#gind = np.where(data_gmc['mass'] > 1e6)  #leave this commented for now\n",
    "\n",
    "gxcm  = data_gmc['xcm']\n",
    "gycm  = data_gmc['ycm']\n",
    "gzcm  = data_gmc['zcm']\n",
    "gmtot = data_gmc['mass']\n",
    "gr90  = data_gmc['r_90']\n",
    "gn = len(gxcm)\n",
    "\n",
    "############################\n",
    "############################\n",
    "#Doing all this trouble to store the initial mass of the clusters\n",
    "fn_associations=simtype+\"_associations_\"+simname+\"_snapshot_\"+str(snap)+\".pkl\"  #snap determines where the cluster was taken from\n",
    "fn_clusters=simtype+\"_clusters_\"+simname+\"_snapshot_\"+str(snap)+\".pkl\" \n",
    "with open(datapath+fn_associations, \"rb\") as input:\n",
    "    association_data = pickle.load(input)\n",
    "\n",
    "with open(datapath+fn_clusters, \"rb\") as input:\n",
    "    cluster_data = pickle.load(input)\n",
    "    \n",
    "clustermass=[]   #it stores the mass of each cluster that was in the beginning\n",
    "\n",
    "for c in range(len(cluster_data)):\n",
    "    m=np.sum(cluster_data[c+1][\"mtot\"])\n",
    "    clustermass.append(m)\n",
    "print(\"These are the initial mass of each star in the cluster\",clustermass)\n",
    "############################\n",
    "############################\n",
    "\n",
    "print(\"########################## TEST: This is cluster data from first cluster\",cluster_data[1])\n",
    "print(\"####################### Total clusters present is\",len(cluster_data))\n",
    "print(\"####################### Total associations present is\",len(association_data))\n",
    "colors=['cyan','blue','green','magenta','yellow','teal','brown','darkslategray','lime','red','orange','purple','rosybrown','pink','navy','olive','cornflowerblue','blueviolet','darkgreen'] #19 colors\n",
    "#colors=['cyan','blue','green','magenta','yellow','teal','brown','darkslategray','lime','red','orange','purple','rosybrown','pink','navy','olive','cornflowerblue'] #17 colors\n",
    "#colors=['cyan','blue','green','magenta','yellow','teal','brown','tan','lime','red'] #10 colors\n",
    "\n",
    "#total_clusters=10 #just in case you want to change the no. of clusters. Setting 10 means select the first 10\n",
    "############################\n",
    "############################"
   ]
  },
  {
   "cell_type": "code",
   "execution_count": 8,
   "metadata": {},
   "outputs": [
    {
     "name": "stdout",
     "output_type": "stream",
     "text": [
      "!!!!!!!!rcm: 6.1243534376319255 False\n",
      "!!!!!!!!rcm: 4.240180321221868 False\n",
      "!!!!!!!!rcm: 6.145070852428348 False\n",
      "!!!!!!!!rcm: 4.794440299727429 True\n",
      "gind: [128] drmin: 0.024419131152407767\n",
      "gxcm:        xcm        \n",
      "------------------\n",
      "-4.775882051772849\n"
     ]
    },
    {
     "data": {
      "image/png": "[encoded data removed]",
      "text/plain": [
       "<Figure size 288x216 with 1 Axes>"
      ]
     },
     "metadata": {
      "needs_background": "light"
     },
     "output_type": "display_data"
    }
   ],
   "source": [
    "fig1=plt.figure()\n",
    "fig1.set_size_inches(4,3)\n",
    "ax=fig1.add_subplot(1,1,1)\n",
    "cluster_count=0\n",
    "for i in range(len(cluster_data)):                              \n",
    "    x=cluster_data[cluster_count+1][\"xcm\"]\n",
    "    y=cluster_data[cluster_count+1][\"ycm\"]\n",
    "    z=cluster_data[cluster_count+1][\"zcm\"]\n",
    "    rcm=(x**2+y**2+z**2)**(1/2)\n",
    "    embedded_check=cluster_data[cluster_count+1][\"is_embedded\"]\n",
    "    print(\"!!!!!!!!rcm:\",rcm,embedded_check)\n",
    "    if (rcm>= 1) and (rcm <= 13) and (embedded_check == True):\n",
    "        gind, drmin = distance_functions.closest_cluster_index(x, y, z, gxcm, gycm, gzcm)\n",
    "        print(\"gind:\",gind,\"drmin:\",drmin)\n",
    "        #print(i,sxcm[i], sycm[i], gxcm[gind][0], gycm[gind][0])\n",
    "        g=ax.scatter(gxcm[gind],gycm[gind],label=\"cloud\",c=\"purple\")\n",
    "        c=ax.scatter(x,y,label=\"clusters\",marker=\"*\",c=\"lime\")\n",
    "        print(\"gxcm:\",gxcm[gind])\n",
    "    cluster_count+=1\n",
    "ax.minorticks_on()\n",
    "ax.tick_params(labelsize=12)\n",
    "ax.set_xlabel(\"x (kpc)\",fontsize=12)\n",
    "ax.set_ylabel(\"y (kpc)\",fontsize=12)       \n",
    "fig1.legend((c,g), (\"clusters\",\"gas cloud\"),\"lower left\")\n",
    "plot_name=\"clusters_and_gas_cloud_zoom_in.png\"\n",
    "fig1.savefig(plot_path+plot_name,bbox_inches='tight',dpi=200)\n",
    "plt.show()"
   ]
  }
 ],
 "metadata": {
  "kernelspec": {
   "display_name": "Python 3",
   "language": "python",
   "name": "python3"
  },
  "language_info": {
   "codemirror_mode": {
    "name": "ipython",
    "version": 3
   },
   "file_extension": ".py",
   "mimetype": "text/x-python",
   "name": "python",
   "nbconvert_exporter": "python",
   "pygments_lexer": "ipython3",
   "version": "3.8.3"
  }
 },
 "nbformat": 4,
 "nbformat_minor": 4
}
