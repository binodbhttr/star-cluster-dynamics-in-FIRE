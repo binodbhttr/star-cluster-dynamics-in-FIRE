{
 "cells": [
  {
   "cell_type": "code",
   "execution_count": 53,
   "metadata": {},
   "outputs": [
    {
     "name": "stdout",
     "output_type": "stream",
     "text": [
      "These are the initial mass of each star in the cluster [73916.7080078125, 41168.5, 56215.1044921875, 56894.609375]\n",
      "########################## TEST: This is cluster data from first cluster {'cluster_groupid': 1, 'no_of_star': 5, 'id': array([ 69249076, 113841844,  38844531,  76321021,  19069093],\n",
      "      dtype=uint32), 'id_children': array([0, 0, 0, 0, 0], dtype=uint32), 'is_embedded': False, 'xcm': -2.7065806433987616, 'ycm': 5.493193911741977, 'zcm': 0.08334805225085126, 'mtot': 73916.7080078125, 'r90': 0.0031252204755780255, 'r50': 0.0031086293971461405, 'rmax': 0.0035162915161754855, 'x': array([-2.70931618, -2.70638319, -2.70567407, -2.70637019, -2.70583812]), 'y': array([5.49364151, 5.49241954, 5.49532517, 5.49474444, 5.49101949]), 'z': array([0.08118454, 0.08337184, 0.08124975, 0.08482978, 0.08544189])}\n",
      "####################### Total clusters present is 4\n",
      "####################### Total associations present is 39\n"
     ]
    }
   ],
   "source": [
    "##########################################################################\n",
    "##########################################################################\n",
    "#This file is designed to plot animation of all 17 clusters using the file total_data_all_clusters_all_snapshots.pkl that contains tracked data of all clusters\n",
    "\n",
    "from matplotlib import pyplot as plt\n",
    "import numpy as np\n",
    "from mpl_toolkits.mplot3d import Axes3D\n",
    "import os\n",
    "import pickle\n",
    "import matplotlib\n",
    "import matplotlib.colors as colors\n",
    "from matplotlib import rc #to use Latex math symbols like 'phi'\n",
    "import astropy\n",
    "from astropy.io import ascii\n",
    "from sl_utilities import distance_functions\n",
    "import astropy\n",
    "from astropy.io import ascii\n",
    "import matplotlib\n",
    "import pdb\n",
    "from importlib import reload\n",
    "\n",
    "matplotlib.rcParams['pdf.fonttype'] = 42\n",
    "matplotlib.rcParams['xtick.labelsize'] = 12\n",
    "matplotlib.rcParams['ytick.labelsize'] = 12\n",
    "matplotlib.rc('text', usetex=False)\n",
    "#############################################################################\n",
    "#constants\n",
    "#############################################################################\n",
    "\n",
    "MsunToGm = 1.99e33\n",
    "KpcToCm = 3.086e21\n",
    "mp = 1.67e-24\n",
    "#bin_edge = 10.\n",
    "bin_edge = 30.\n",
    "\n",
    "bins = np.arange(-25,25,0.1)\n",
    "\n",
    "############################################################################\n",
    "#read in sim files and find relevant particles\n",
    "############################################################################\n",
    "#STAMPEDE\n",
    "simname = 'm12m_res7100_mhdcv'\n",
    "simtype=\"fire2\"\n",
    "snap=650 #this is the snapshot at which the clusters were taken from using the fof algorithm I am using this to extract information from the snapshot where the clusters were first seen\n",
    "filename_gmc = 'cloud_props_m12m_mhd_stamp_fire2650.txt'\n",
    "#simdir = '/scratch/projects/xsede/GalaxiesOnFIRE/mhdcv/m12i_res7100_mhdcv/1Myr/sf-fire3/'\n",
    "datapath=\"./\"+simtype+\"_data_pkl/\" #this is teh path where the data of our tracked clusters is\n",
    "gas_datapath=\"./\"+simtype+\"_gas_data_pkl/\"\n",
    "dirname_gmc = './' #change this! \n",
    "\n",
    "plot_path=\"./\"+simtype+\"_plots_with_gas/\" #creating a path to store the plots only if it does not exist\n",
    "if not os.path.exists(plot_path):\n",
    "  os.makedirs(plot_path)\n",
    "\n",
    "###############################\n",
    "##############################\n",
    "#load gmc catalog data\n",
    "data_gmc  = astropy.io.ascii.read(dirname_gmc+filename_gmc) #data_gmc.keys() #to see content\n",
    "#gind = np.where(data_gmc['mass'] > 1e6)  #leave this commented for now\n",
    "\n",
    "gxcm  = data_gmc['xcm']\n",
    "gycm  = data_gmc['ycm']\n",
    "gzcm  = data_gmc['zcm']\n",
    "gmtot = data_gmc['mass']\n",
    "gr90  = data_gmc['r_90']\n",
    "gn = len(gxcm)\n",
    "\n",
    "############################\n",
    "############################\n",
    "#Doing all this trouble to store the initial mass of the clusters\n",
    "fn_associations=simtype+\"_associations_\"+simname+\"_snapshot_\"+str(snap)+\".pkl\"  #snap determines where the cluster was taken from\n",
    "fn_clusters=simtype+\"_clusters_\"+simname+\"_snapshot_\"+str(snap)+\".pkl\" \n",
    "with open(datapath+fn_associations, \"rb\") as input:\n",
    "    association_data = pickle.load(input)\n",
    "\n",
    "with open(datapath+fn_clusters, \"rb\") as input:\n",
    "    cluster_data = pickle.load(input)\n",
    "    \n",
    "clustermass=[]   #it stores the mass of each cluster that was in the beginning\n",
    "\n",
    "for c in range(len(cluster_data)):\n",
    "    m=np.sum(cluster_data[c+1][\"mtot\"])\n",
    "    clustermass.append(m)\n",
    "print(\"These are the initial mass of each star in the cluster\",clustermass)\n",
    "############################\n",
    "############################\n",
    "\n",
    "print(\"########################## TEST: This is cluster data from first cluster\",cluster_data[1])\n",
    "print(\"####################### Total clusters present is\",len(cluster_data))\n",
    "print(\"####################### Total associations present is\",len(association_data))\n",
    "colors=['cyan','blue','green','magenta','yellow','teal','brown','darkslategray','lime','red','orange','purple','rosybrown','pink','navy','olive','cornflowerblue','blueviolet','darkgreen'] #19 colors\n",
    "#colors=['cyan','blue','green','magenta','yellow','teal','brown','darkslategray','lime','red','orange','purple','rosybrown','pink','navy','olive','cornflowerblue'] #17 colors\n",
    "#colors=['cyan','blue','green','magenta','yellow','teal','brown','tan','lime','red'] #10 colors\n",
    "\n",
    "#total_clusters=10 #just in case you want to change the no. of clusters. Setting 10 means select the first 10\n",
    "############################\n",
    "############################"
   ]
  },
  {
   "cell_type": "code",
   "execution_count": 54,
   "metadata": {},
   "outputs": [
    {
     "name": "stdout",
     "output_type": "stream",
     "text": [
      "!!!!!!!!rcm: 6.1243534376319255 False\n",
      "!!!!!!!!rcm: 4.240180321221868 False\n",
      "!!!!!!!!rcm: 6.145070852428348 False\n",
      "!!!!!!!!rcm: 4.794440299727429 True\n",
      "gind: [128] drmin: 0.024419131152407767\n",
      "gxcm:        xcm        \n",
      "------------------\n",
      "-4.775882051772849\n",
      "gxcm1        xcm        \n",
      "------------------\n",
      "-4.775882051772849\n"
     ]
    },
    {
     "data": {
      "image/png": "[encoded data removed]",
      "text/plain": [
       "<Figure size 288x216 with 2 Axes>"
      ]
     },
     "metadata": {
      "needs_background": "light"
     },
     "output_type": "display_data"
    }
   ],
   "source": [
    "########################\n",
    "#######################\n",
    "###GAS INFO ##############\n",
    "gas_datapath=\"./\"+simtype+\"_gas_data_pkl/\"\n",
    "file_name=simtype+\"_gas_data\"+str(snap)+\".pkl\"\n",
    "#print(\"\\nReading gas data from the file: \",file_name)\n",
    "with open(gas_datapath+file_name, \"rb\") as input:\n",
    "    import_gasdata = pickle.load(input)\n",
    "\n",
    "v=import_gasdata[\"v\"]\n",
    "face=import_gasdata[\"face\"]\n",
    "xGas=import_gasdata[\"xGas\"]\n",
    "yGas=import_gasdata[\"yGas\"]    \n",
    "\n",
    "face=import_gasdata[\"face\"]\n",
    "xh=import_gasdata[\"xh\"]\n",
    "yh=import_gasdata[\"yh\"]\n",
    "snaptime=import_gasdata[\"snaptime\"]\n",
    "norm = matplotlib.colors.LogNorm(vmin=1, vmax=1000) #the color range plotted\n",
    "  \n",
    "\n",
    "####################\n",
    "####################\n",
    "\n",
    "\n",
    "fig1=plt.figure()\n",
    "fig1.set_size_inches(4,3)\n",
    "ax=fig1.add_subplot(1,1,1)\n",
    "ax.set_title(simname)\n",
    "cluster_count=0\n",
    "for i in range(len(cluster_data)):                              \n",
    "    xcm=cluster_data[cluster_count+1][\"xcm\"]\n",
    "    ycm=cluster_data[cluster_count+1][\"ycm\"]\n",
    "    zcm=cluster_data[cluster_count+1][\"zcm\"]\n",
    "    x=cluster_data[cluster_count+1][\"x\"]\n",
    "    y=cluster_data[cluster_count+1][\"y\"]\n",
    "    z=cluster_data[cluster_count+1][\"z\"]\n",
    "    rcm=(xcm**2+ycm**2+zcm**2)**(1/2)\n",
    "    embedded_check=cluster_data[cluster_count+1][\"is_embedded\"]\n",
    "    print(\"!!!!!!!!rcm:\",rcm,embedded_check)\n",
    "    if (rcm>= 1) and (rcm <= 12) and (embedded_check == True):\n",
    "        gind, drmin = distance_functions.closest_cluster_index(xcm, ycm, zcm, gxcm, gycm, gzcm)\n",
    "        print(\"gind:\",gind,\"drmin:\",drmin)\n",
    "        #print(i,sxcm[i], sycm[i], gxcm[gind][0], gycm[gind][0])\n",
    "        g=ax.scatter(gxcm[gind],gycm[gind],label=\"cloud\",c=\"purple\")\n",
    "        s=ax.scatter(x,y,label=\"stars\",marker=\"*\",c=\"red\")\n",
    "        c=ax.scatter(xcm,ycm,label=\"clusterscm\",marker=\"+\",c=\"lime\")\n",
    "        gcmx=gxcm[gind]\n",
    "        gcmy=gycm[gind]\n",
    "        circle=plt.Circle((gxcm[gind][0],gycm[gind][0]),gr90[gind][0],fill=False) #circle for the gas cloud r90\n",
    "        ax.add_patch(circle)\n",
    "        print(\"gxcm:\",gxcm[gind])\n",
    "    cluster_count+=1  \n",
    "\n",
    "########\n",
    "########\n",
    "\n",
    "im = ax.imshow(face/(((bins[1]-bins[0])*1000)**2),origin='lower',interpolation='nearest',norm=norm,extent=(-25,25,-25,25),cmap='binary') \n",
    "    \n",
    "###########\n",
    "#colorbar for the background gas density\n",
    "cmap_gray = matplotlib.cm.get_cmap('binary')\n",
    "norm1 = matplotlib.colors.LogNorm(vmin=1,vmax=1000)\n",
    "cbar_ax1 = fig1.add_axes([-0.03, 0.12, 0.04, 0.69]) # position of gray colorbar (left, bottom, width, height)\n",
    "cb1 = fig1.colorbar(im, cax=cbar_ax1, ticklocation='left')\n",
    "cb1.set_label('$\\Sigma$ (M$_{{\\odot}}$/pc$^2$)', labelpad=-5, fontsize=12)\n",
    "#######################\n",
    "\n",
    "\n",
    "print(\"gxcm1\",gcm)\n",
    "ax.minorticks_on()\n",
    "ax.tick_params(labelsize=12)\n",
    "ax.set_xlabel(\"x (kpc)\",fontsize=12)\n",
    "ax.set_ylabel(\"y (kpc)\",fontsize=12)       \n",
    "ax.set_xlim(gcmx-0.05,gcmx+0.05)\n",
    "ax.set_ylim(gcmy-0.05,gcmy+0.05)\n",
    "fig1.legend((c,g,s),(\"cluster CM\",\"gas cloud\",\"stars\"),bbox_to_anchor=(1,0.5), loc='center left')\n",
    "plot_name=simname+\"clusters_and_gas_cloud_zoom_in.png\"\n",
    "fig1.savefig(plot_path+plot_name,bbox_inches='tight',dpi=200)\n",
    "plt.show()\n",
    "plt.close()"
   ]
  },
  {
   "cell_type": "code",
   "execution_count": 58,
   "metadata": {},
   "outputs": [
    {
     "name": "stdout",
     "output_type": "stream",
     "text": [
      "!!!!!!!!rcm: 6.1243534376319255 False\n",
      "!!!!!!!!rcm: 4.240180321221868 False\n",
      "!!!!!!!!rcm: 6.145070852428348 False\n",
      "!!!!!!!!rcm: 4.794440299727429 True\n",
      "gind: [128] drmin: 0.024419131152407767\n",
      "gxcm:        xcm        \n",
      "------------------\n",
      "-4.775882051772849\n",
      "gxcm1        xcm        \n",
      "------------------\n",
      "-4.775882051772849\n"
     ]
    },
    {
     "data": {
      "image/png": "[encoded data removed]",
      "text/plain": [
       "<Figure size 288x216 with 1 Axes>"
      ]
     },
     "metadata": {
      "needs_background": "light"
     },
     "output_type": "display_data"
    }
   ],
   "source": [
    "########################\n",
    "#######################\n",
    "###GAS INFO ##############\n",
    "gas_datapath=\"./\"+simtype+\"_gas_data_pkl/\"\n",
    "file_name=simtype+\"_gas_data\"+str(snap)+\".pkl\"\n",
    "#print(\"\\nReading gas data from the file: \",file_name)\n",
    "with open(gas_datapath+file_name, \"rb\") as input:\n",
    "    import_gasdata = pickle.load(input)\n",
    "\n",
    "v=import_gasdata[\"v\"]\n",
    "face=import_gasdata[\"face\"]\n",
    "#xGas=import_gasdata[\"xGas\"]\n",
    "#yGas=import_gasdata[\"yGas\"]    \n",
    "\n",
    "face=import_gasdata[\"face\"]\n",
    "xh=import_gasdata[\"xh\"]\n",
    "yh=import_gasdata[\"yh\"]\n",
    "snaptime=import_gasdata[\"snaptime\"]\n",
    "norm = matplotlib.colors.LogNorm(vmin=1, vmax=1000) #the color range plotted\n",
    "  \n",
    "\n",
    "####################\n",
    "####################\n",
    "\n",
    "\n",
    "fig1=plt.figure()\n",
    "fig1.set_size_inches(4,3)\n",
    "ax=fig1.add_subplot(1,1,1)\n",
    "ax.set_title(simname)\n",
    "cluster_count=0\n",
    "for i in range(len(cluster_data)):                              \n",
    "    xcm=cluster_data[cluster_count+1][\"xcm\"]\n",
    "    ycm=cluster_data[cluster_count+1][\"ycm\"]\n",
    "    zcm=cluster_data[cluster_count+1][\"zcm\"]\n",
    "    x=cluster_data[cluster_count+1][\"x\"]\n",
    "    y=cluster_data[cluster_count+1][\"y\"]\n",
    "    z=cluster_data[cluster_count+1][\"z\"]\n",
    "    rcm=(xcm**2+ycm**2+zcm**2)**(1/2)\n",
    "    embedded_check=cluster_data[cluster_count+1][\"is_embedded\"]\n",
    "    print(\"!!!!!!!!rcm:\",rcm,embedded_check)\n",
    "    if (rcm>= 1) and (rcm <= 12) and (embedded_check == True):\n",
    "        gind, drmin = distance_functions.closest_cluster_index(xcm, ycm, zcm, gxcm, gycm, gzcm)\n",
    "        print(\"gind:\",gind,\"drmin:\",drmin)\n",
    "        #print(i,sxcm[i], sycm[i], gxcm[gind][0], gycm[gind][0])\n",
    "        gas=ax.scatter(xGas,yGas,c=\"grey\")\n",
    "        g=ax.scatter(gxcm[gind],gycm[gind],label=\"cloud\",c=\"purple\")\n",
    "        s=ax.scatter(x,y,label=\"stars\",marker=\"*\",c=\"red\")\n",
    "        c=ax.scatter(xcm,ycm,label=\"clusterscm\",marker=\"+\",c=\"lime\")\n",
    "        gcmx=gxcm[gind]\n",
    "        gcmy=gycm[gind]\n",
    "        circle=plt.Circle((gxcm[gind][0],gycm[gind][0]),gr90[gind][0],fill=False) #circle for the gas cloud r90\n",
    "        ax.add_patch(circle)\n",
    "        print(\"gxcm:\",gxcm[gind])\n",
    "    cluster_count+=1  \n",
    "\n",
    "########\n",
    "########\n",
    "\n",
    "print(\"gxcm1\",gcm)\n",
    "ax.minorticks_on()\n",
    "ax.tick_params(labelsize=12)\n",
    "ax.set_xlabel(\"x (kpc)\",fontsize=12)\n",
    "ax.set_ylabel(\"y (kpc)\",fontsize=12)       \n",
    "ax.set_xlim(gcmx-0.05,gcmx+0.05)\n",
    "ax.set_ylim(gcmy-0.05,gcmy+0.05)\n",
    "ax.axes.set_aspect('equal')\n",
    "\n",
    "fig1.legend((c,g,s,gas),(\"cluster CM\",\"gas cloud\",\"stars\",\"gas\"),bbox_to_anchor=(0.79,0.5), loc='center left')\n",
    "plot_name=simname+\"clusters_and_gas_cloud_zoom_in_all_gas.png\"\n",
    "fig1.savefig(plot_path+plot_name,bbox_inches='tight',dpi=200)\n",
    "plt.show()\n",
    "plt.close()"
   ]
  },
  {
   "cell_type": "code",
   "execution_count": 60,
   "metadata": {},
   "outputs": [
    {
     "name": "stdout",
     "output_type": "stream",
     "text": [
      "!!!!!!!!rcm: 6.1243534376319255 False\n",
      "!!!!!!!!rcm: 4.240180321221868 False\n",
      "!!!!!!!!rcm: 6.145070852428348 False\n",
      "!!!!!!!!rcm: 4.794440299727429 True\n",
      "gind: [128] drmin: 0.024419131152407767\n",
      "gzcm:         zcm        \n",
      "-------------------\n",
      "0.06904761621033334\n",
      "gxcm1        xcm        \n",
      "------------------\n",
      "-4.775882051772849\n"
     ]
    },
    {
     "data": {
      "image/png": "[encoded data removed]",
      "text/plain": [
       "<Figure size 288x216 with 1 Axes>"
      ]
     },
     "metadata": {
      "needs_background": "light"
     },
     "output_type": "display_data"
    }
   ],
   "source": [
    "########################\n",
    "#######################\n",
    "###GAS INFO ##############\n",
    "gas_datapath=\"./\"+simtype+\"_gas_data_pkl/\"\n",
    "file_name=simtype+\"_gas_data\"+str(snap)+\".pkl\"\n",
    "#print(\"\\nReading gas data from the file: \",file_name)\n",
    "with open(gas_datapath+file_name, \"rb\") as input:\n",
    "    import_gasdata = pickle.load(input)\n",
    "\n",
    "v=import_gasdata[\"v\"]\n",
    "face=import_gasdata[\"face\"]\n",
    "xGas=import_gasdata[\"xGas\"]\n",
    "yGas=import_gasdata[\"yGas\"]    \n",
    "zGas=import_gasdata[\"zGas\"]\n",
    "\n",
    "\n",
    "face=import_gasdata[\"face\"]\n",
    "xh=import_gasdata[\"xh\"]\n",
    "yh=import_gasdata[\"yh\"]\n",
    "snaptime=import_gasdata[\"snaptime\"]\n",
    "norm = matplotlib.colors.LogNorm(vmin=1, vmax=1000) #the color range plotted\n",
    "  \n",
    "\n",
    "####################\n",
    "####################\n",
    "\n",
    "\n",
    "fig1=plt.figure()\n",
    "fig1.set_size_inches(4,3)\n",
    "ax=fig1.add_subplot(1,1,1)\n",
    "ax.set_title(simname)\n",
    "cluster_count=0\n",
    "for i in range(len(cluster_data)):                              \n",
    "    xcm=cluster_data[cluster_count+1][\"xcm\"]\n",
    "    ycm=cluster_data[cluster_count+1][\"ycm\"]\n",
    "    zcm=cluster_data[cluster_count+1][\"zcm\"]\n",
    "    x=cluster_data[cluster_count+1][\"x\"]\n",
    "    y=cluster_data[cluster_count+1][\"y\"]\n",
    "    z=cluster_data[cluster_count+1][\"z\"]\n",
    "    rcm=(xcm**2+ycm**2+zcm**2)**(1/2)\n",
    "    embedded_check=cluster_data[cluster_count+1][\"is_embedded\"]\n",
    "    print(\"!!!!!!!!rcm:\",rcm,embedded_check)\n",
    "    if (rcm>= 1) and (rcm <= 12) and (embedded_check == True):\n",
    "        gind, drmin = distance_functions.closest_cluster_index(xcm, ycm, zcm, gxcm, gycm, gzcm)\n",
    "        print(\"gind:\",gind,\"drmin:\",drmin)\n",
    "        #print(i,sxcm[i], sycm[i], gxcm[gind][0], gycm[gind][0])\n",
    "        gas=ax.scatter(xGas,zGas,c=\"grey\")\n",
    "        g=ax.scatter(gxcm[gind],gzcm[gind],label=\"cloud\",c=\"purple\")\n",
    "        s=ax.scatter(x,z,label=\"stars\",marker=\"*\",c=\"red\")\n",
    "        c=ax.scatter(xcm,zcm,label=\"clusterscm\",marker=\"+\",c=\"lime\")\n",
    "        gcmx=gxcm[gind]\n",
    "        gcmy=gycm[gind]\n",
    "        gcmz=gzcm[gind]\n",
    "        circle=plt.Circle((gxcm[gind][0],gzcm[gind][0]),gr90[gind][0],fill=False) #circle for the gas cloud r90\n",
    "        ax.add_patch(circle)\n",
    "        print(\"gzcm:\",gzcm[gind])\n",
    "    cluster_count+=1  \n",
    "\n",
    "########\n",
    "########\n",
    "\n",
    "print(\"gxcm1\",gcmx)\n",
    "ax.minorticks_on()\n",
    "ax.tick_params(labelsize=12)\n",
    "ax.set_xlabel(\"x (kpc)\",fontsize=12)\n",
    "ax.set_ylabel(\"z (kpc)\",fontsize=12)       \n",
    "ax.set_xlim(gcmx-0.05,gcmx+0.05)\n",
    "ax.set_ylim(gcmz-0.05,gcmz+0.05)\n",
    "ax.axes.set_aspect('equal')\n",
    "\n",
    "fig1.legend((c,g,s,gas),(\"cluster CM\",\"gas cloud\",\"stars\",\"gas\"),bbox_to_anchor=(0.79,0.5), loc='center left')\n",
    "plot_name=simname+\"x_z_clusters_and_gas_cloud_zoom_in_all_gas.png\"\n",
    "fig1.savefig(plot_path+plot_name,bbox_inches='tight',dpi=200)\n",
    "plt.show()\n",
    "plt.close()"
   ]
  },
  {
   "cell_type": "code",
   "execution_count": 62,
   "metadata": {},
   "outputs": [
    {
     "data": {
      "application/vnd.plotly.v1+json": {
       "config": {
        "plotlyServerURL": "https://plot.ly"
       },
       "data": [
        {
         "mode": "markers",
         "type": "scatter3d",
         "x": [
          1,
          0.9792475210564969,
          0.9178514149905888,
          0.8183599245989672,
          0.6849024400004521,
          0.5230181084730104,
          0.33942593237925484,
          0.14174589725634046,
          -0.061817295362854206,
          -0.262814763741325,
          -0.4529041164186286,
          -0.6241957028171256,
          -0.7695800728569471,
          -0.883023054382162,
          -0.95981620122199,
          -0.996772217050833,
          -0.9923572439880433,
          -0.9467545253046645,
          -0.8618567999191831,
          -0.7411877443484259,
          -0.5897557226621226,
          -0.41384591454310704,
          -0.22075944916926946,
          -0.018510372154503518,
          0.18450697707700792,
          0.37986637199507933,
          0.5594594291408053,
          0.7158321462405541,
          0.842494280256423,
          0.9341887246502055,
          0.9871097053688656,
          0.9990607393363355,
          0.9695457993910898,
          0.8997899018725932,
          0.7926882623697213,
          0.6526861299196696,
          0.48559428713386943,
          0.29834787391040735,
          0.09871854474461515,
          -0.10500809346346798,
          -0.30437637517455507,
          -0.4911115282522227,
          -0.6574631180319587,
          -0.7965267287855186,
          -0.9025305312049614,
          -0.9710748419350043,
          -0.9993147322454036,
          -0.9860781066780927,
          -0.931914350819809,
          -0.8390715290764524
         ],
         "y": [
          0,
          0.20266793654820095,
          0.39692414892492234,
          0.5747060412161792,
          0.7286347834693504,
          0.8523215697196184,
          0.9406327851124867,
          0.9899030763721239,
          0.9980874821347183,
          0.9648463089837632,
          0.8915592304110037,
          0.7812680235262638,
          0.6385503202266021,
          0.469329612777201,
          0.28062939951435684,
          0.0802816748428135,
          -0.12339813736217871,
          -0.3219563150726187,
          -0.5071517094845144,
          -0.6712977935519321,
          -0.8075816909683363,
          -0.9103469443107828,
          -0.9753282860670456,
          -0.9998286683840896,
          -0.9828312039256306,
          -0.9250413717382029,
          -0.8288577363730427,
          -0.6982723955653996,
          -0.5387052883861563,
          -0.3567792408989381,
          -0.16004508604325057,
          0.04333173336868346,
          0.2449100710119793,
          0.4363234264718193,
          0.6096271964908323,
          0.7576284153927202,
          0.8741842988197335,
          0.9544571997387519,
          0.9951153947776636,
          0.9944713672636168,
          0.9525518475314604,
          0.8710967034823207,
          0.7534867274396376,
          0.6046033165061543,
          0.4306258703827373,
          0.23877531564403087,
          0.03701440148506237,
          -0.1662827938487564,
          -0.3626784288265488,
          -0.5440211108893698
         ],
         "z": [
          0,
          0.20408163265306123,
          0.40816326530612246,
          0.6122448979591837,
          0.8163265306122449,
          1.0204081632653061,
          1.2244897959183674,
          1.4285714285714286,
          1.6326530612244898,
          1.836734693877551,
          2.0408163265306123,
          2.2448979591836737,
          2.4489795918367347,
          2.6530612244897958,
          2.857142857142857,
          3.0612244897959187,
          3.2653061224489797,
          3.4693877551020407,
          3.673469387755102,
          3.8775510204081636,
          4.081632653061225,
          4.285714285714286,
          4.4897959183673475,
          4.6938775510204085,
          4.8979591836734695,
          5.1020408163265305,
          5.3061224489795915,
          5.510204081632653,
          5.714285714285714,
          5.918367346938775,
          6.122448979591837,
          6.326530612244898,
          6.530612244897959,
          6.73469387755102,
          6.938775510204081,
          7.142857142857143,
          7.346938775510204,
          7.551020408163265,
          7.755102040816327,
          7.959183673469388,
          8.16326530612245,
          8.36734693877551,
          8.571428571428571,
          8.775510204081632,
          8.979591836734695,
          9.183673469387756,
          9.387755102040817,
          9.591836734693878,
          9.795918367346939,
          10
         ]
        }
       ],
       "layout": {
        "template": {
         "data": {
          "bar": [
           {
            "error_x": {
             "color": "#2a3f5f"
            },
            "error_y": {
             "color": "#2a3f5f"
            },
            "marker": {
             "line": {
              "color": "#E5ECF6",
              "width": 0.5
             }
            },
            "type": "bar"
           }
          ],
          "barpolar": [
           {
            "marker": {
             "line": {
              "color": "#E5ECF6",
              "width": 0.5
             }
            },
            "type": "barpolar"
           }
          ],
          "carpet": [
           {
            "aaxis": {
             "endlinecolor": "#2a3f5f",
             "gridcolor": "white",
             "linecolor": "white",
             "minorgridcolor": "white",
             "startlinecolor": "#2a3f5f"
            },
            "baxis": {
             "endlinecolor": "#2a3f5f",
             "gridcolor": "white",
             "linecolor": "white",
             "minorgridcolor": "white",
             "startlinecolor": "#2a3f5f"
            },
            "type": "carpet"
           }
          ],
          "choropleth": [
           {
            "colorbar": {
             "outlinewidth": 0,
             "ticks": ""
            },
            "type": "choropleth"
           }
          ],
          "contour": [
           {
            "colorbar": {
             "outlinewidth": 0,
             "ticks": ""
            },
            "colorscale": [
             [
              0,
              "#0d0887"
             ],
             [
              0.1111111111111111,
              "#46039f"
             ],
             [
              0.2222222222222222,
              "#7201a8"
             ],
             [
              0.3333333333333333,
              "#9c179e"
             ],
             [
              0.4444444444444444,
              "#bd3786"
             ],
             [
              0.5555555555555556,
              "#d8576b"
             ],
             [
              0.6666666666666666,
              "#ed7953"
             ],
             [
              0.7777777777777778,
              "#fb9f3a"
             ],
             [
              0.8888888888888888,
              "#fdca26"
             ],
             [
              1,
              "#f0f921"
             ]
            ],
            "type": "contour"
           }
          ],
          "contourcarpet": [
           {
            "colorbar": {
             "outlinewidth": 0,
             "ticks": ""
            },
            "type": "contourcarpet"
           }
          ],
          "heatmap": [
           {
            "colorbar": {
             "outlinewidth": 0,
             "ticks": ""
            },
            "colorscale": [
             [
              0,
              "#0d0887"
             ],
             [
              0.1111111111111111,
              "#46039f"
             ],
             [
              0.2222222222222222,
              "#7201a8"
             ],
             [
              0.3333333333333333,
              "#9c179e"
             ],
             [
              0.4444444444444444,
              "#bd3786"
             ],
             [
              0.5555555555555556,
              "#d8576b"
             ],
             [
              0.6666666666666666,
              "#ed7953"
             ],
             [
              0.7777777777777778,
              "#fb9f3a"
             ],
             [
              0.8888888888888888,
              "#fdca26"
             ],
             [
              1,
              "#f0f921"
             ]
            ],
            "type": "heatmap"
           }
          ],
          "heatmapgl": [
           {
            "colorbar": {
             "outlinewidth": 0,
             "ticks": ""
            },
            "colorscale": [
             [
              0,
              "#0d0887"
             ],
             [
              0.1111111111111111,
              "#46039f"
             ],
             [
              0.2222222222222222,
              "#7201a8"
             ],
             [
              0.3333333333333333,
              "#9c179e"
             ],
             [
              0.4444444444444444,
              "#bd3786"
             ],
             [
              0.5555555555555556,
              "#d8576b"
             ],
             [
              0.6666666666666666,
              "#ed7953"
             ],
             [
              0.7777777777777778,
              "#fb9f3a"
             ],
             [
              0.8888888888888888,
              "#fdca26"
             ],
             [
              1,
              "#f0f921"
             ]
            ],
            "type": "heatmapgl"
           }
          ],
          "histogram": [
           {
            "marker": {
             "colorbar": {
              "outlinewidth": 0,
              "ticks": ""
             }
            },
            "type": "histogram"
           }
          ],
          "histogram2d": [
           {
            "colorbar": {
             "outlinewidth": 0,
             "ticks": ""
            },
            "colorscale": [
             [
              0,
              "#0d0887"
             ],
             [
              0.1111111111111111,
              "#46039f"
             ],
             [
              0.2222222222222222,
              "#7201a8"
             ],
             [
              0.3333333333333333,
              "#9c179e"
             ],
             [
              0.4444444444444444,
              "#bd3786"
             ],
             [
              0.5555555555555556,
              "#d8576b"
             ],
             [
              0.6666666666666666,
              "#ed7953"
             ],
             [
              0.7777777777777778,
              "#fb9f3a"
             ],
             [
              0.8888888888888888,
              "#fdca26"
             ],
             [
              1,
              "#f0f921"
             ]
            ],
            "type": "histogram2d"
           }
          ],
          "histogram2dcontour": [
           {
            "colorbar": {
             "outlinewidth": 0,
             "ticks": ""
            },
            "colorscale": [
             [
              0,
              "#0d0887"
             ],
             [
              0.1111111111111111,
              "#46039f"
             ],
             [
              0.2222222222222222,
              "#7201a8"
             ],
             [
              0.3333333333333333,
              "#9c179e"
             ],
             [
              0.4444444444444444,
              "#bd3786"
             ],
             [
              0.5555555555555556,
              "#d8576b"
             ],
             [
              0.6666666666666666,
              "#ed7953"
             ],
             [
              0.7777777777777778,
              "#fb9f3a"
             ],
             [
              0.8888888888888888,
              "#fdca26"
             ],
             [
              1,
              "#f0f921"
             ]
            ],
            "type": "histogram2dcontour"
           }
          ],
          "mesh3d": [
           {
            "colorbar": {
             "outlinewidth": 0,
             "ticks": ""
            },
            "type": "mesh3d"
           }
          ],
          "parcoords": [
           {
            "line": {
             "colorbar": {
              "outlinewidth": 0,
              "ticks": ""
             }
            },
            "type": "parcoords"
           }
          ],
          "pie": [
           {
            "automargin": true,
            "type": "pie"
           }
          ],
          "scatter": [
           {
            "marker": {
             "colorbar": {
              "outlinewidth": 0,
              "ticks": ""
             }
            },
            "type": "scatter"
           }
          ],
          "scatter3d": [
           {
            "line": {
             "colorbar": {
              "outlinewidth": 0,
              "ticks": ""
             }
            },
            "marker": {
             "colorbar": {
              "outlinewidth": 0,
              "ticks": ""
             }
            },
            "type": "scatter3d"
           }
          ],
          "scattercarpet": [
           {
            "marker": {
             "colorbar": {
              "outlinewidth": 0,
              "ticks": ""
             }
            },
            "type": "scattercarpet"
           }
          ],
          "scattergeo": [
           {
            "marker": {
             "colorbar": {
              "outlinewidth": 0,
              "ticks": ""
             }
            },
            "type": "scattergeo"
           }
          ],
          "scattergl": [
           {
            "marker": {
             "colorbar": {
              "outlinewidth": 0,
              "ticks": ""
             }
            },
            "type": "scattergl"
           }
          ],
          "scattermapbox": [
           {
            "marker": {
             "colorbar": {
              "outlinewidth": 0,
              "ticks": ""
             }
            },
            "type": "scattermapbox"
           }
          ],
          "scatterpolar": [
           {
            "marker": {
             "colorbar": {
              "outlinewidth": 0,
              "ticks": ""
             }
            },
            "type": "scatterpolar"
           }
          ],
          "scatterpolargl": [
           {
            "marker": {
             "colorbar": {
              "outlinewidth": 0,
              "ticks": ""
             }
            },
            "type": "scatterpolargl"
           }
          ],
          "scatterternary": [
           {
            "marker": {
             "colorbar": {
              "outlinewidth": 0,
              "ticks": ""
             }
            },
            "type": "scatterternary"
           }
          ],
          "surface": [
           {
            "colorbar": {
             "outlinewidth": 0,
             "ticks": ""
            },
            "colorscale": [
             [
              0,
              "#0d0887"
             ],
             [
              0.1111111111111111,
              "#46039f"
             ],
             [
              0.2222222222222222,
              "#7201a8"
             ],
             [
              0.3333333333333333,
              "#9c179e"
             ],
             [
              0.4444444444444444,
              "#bd3786"
             ],
             [
              0.5555555555555556,
              "#d8576b"
             ],
             [
              0.6666666666666666,
              "#ed7953"
             ],
             [
              0.7777777777777778,
              "#fb9f3a"
             ],
             [
              0.8888888888888888,
              "#fdca26"
             ],
             [
              1,
              "#f0f921"
             ]
            ],
            "type": "surface"
           }
          ],
          "table": [
           {
            "cells": {
             "fill": {
              "color": "#EBF0F8"
             },
             "line": {
              "color": "white"
             }
            },
            "header": {
             "fill": {
              "color": "#C8D4E3"
             },
             "line": {
              "color": "white"
             }
            },
            "type": "table"
           }
          ]
         },
         "layout": {
          "annotationdefaults": {
           "arrowcolor": "#2a3f5f",
           "arrowhead": 0,
           "arrowwidth": 1
          },
          "coloraxis": {
           "colorbar": {
            "outlinewidth": 0,
            "ticks": ""
           }
          },
          "colorscale": {
           "diverging": [
            [
             0,
             "#8e0152"
            ],
            [
             0.1,
             "#c51b7d"
            ],
            [
             0.2,
             "#de77ae"
            ],
            [
             0.3,
             "#f1b6da"
            ],
            [
             0.4,
             "#fde0ef"
            ],
            [
             0.5,
             "#f7f7f7"
            ],
            [
             0.6,
             "#e6f5d0"
            ],
            [
             0.7,
             "#b8e186"
            ],
            [
             0.8,
             "#7fbc41"
            ],
            [
             0.9,
             "#4d9221"
            ],
            [
             1,
             "#276419"
            ]
           ],
           "sequential": [
            [
             0,
             "#0d0887"
            ],
            [
             0.1111111111111111,
             "#46039f"
            ],
            [
             0.2222222222222222,
             "#7201a8"
            ],
            [
             0.3333333333333333,
             "#9c179e"
            ],
            [
             0.4444444444444444,
             "#bd3786"
            ],
            [
             0.5555555555555556,
             "#d8576b"
            ],
            [
             0.6666666666666666,
             "#ed7953"
            ],
            [
             0.7777777777777778,
             "#fb9f3a"
            ],
            [
             0.8888888888888888,
             "#fdca26"
            ],
            [
             1,
             "#f0f921"
            ]
           ],
           "sequentialminus": [
            [
             0,
             "#0d0887"
            ],
            [
             0.1111111111111111,
             "#46039f"
            ],
            [
             0.2222222222222222,
             "#7201a8"
            ],
            [
             0.3333333333333333,
             "#9c179e"
            ],
            [
             0.4444444444444444,
             "#bd3786"
            ],
            [
             0.5555555555555556,
             "#d8576b"
            ],
            [
             0.6666666666666666,
             "#ed7953"
            ],
            [
             0.7777777777777778,
             "#fb9f3a"
            ],
            [
             0.8888888888888888,
             "#fdca26"
            ],
            [
             1,
             "#f0f921"
            ]
           ]
          },
          "colorway": [
           "#636efa",
           "#EF553B",
           "#00cc96",
           "#ab63fa",
           "#FFA15A",
           "#19d3f3",
           "#FF6692",
           "#B6E880",
           "#FF97FF",
           "#FECB52"
          ],
          "font": {
           "color": "#2a3f5f"
          },
          "geo": {
           "bgcolor": "white",
           "lakecolor": "white",
           "landcolor": "#E5ECF6",
           "showlakes": true,
           "showland": true,
           "subunitcolor": "white"
          },
          "hoverlabel": {
           "align": "left"
          },
          "hovermode": "closest",
          "mapbox": {
           "style": "light"
          },
          "paper_bgcolor": "white",
          "plot_bgcolor": "#E5ECF6",
          "polar": {
           "angularaxis": {
            "gridcolor": "white",
            "linecolor": "white",
            "ticks": ""
           },
           "bgcolor": "#E5ECF6",
           "radialaxis": {
            "gridcolor": "white",
            "linecolor": "white",
            "ticks": ""
           }
          },
          "scene": {
           "xaxis": {
            "backgroundcolor": "#E5ECF6",
            "gridcolor": "white",
            "gridwidth": 2,
            "linecolor": "white",
            "showbackground": true,
            "ticks": "",
            "zerolinecolor": "white"
           },
           "yaxis": {
            "backgroundcolor": "#E5ECF6",
            "gridcolor": "white",
            "gridwidth": 2,
            "linecolor": "white",
            "showbackground": true,
            "ticks": "",
            "zerolinecolor": "white"
           },
           "zaxis": {
            "backgroundcolor": "#E5ECF6",
            "gridcolor": "white",
            "gridwidth": 2,
            "linecolor": "white",
            "showbackground": true,
            "ticks": "",
            "zerolinecolor": "white"
           }
          },
          "shapedefaults": {
           "line": {
            "color": "#2a3f5f"
           }
          },
          "ternary": {
           "aaxis": {
            "gridcolor": "white",
            "linecolor": "white",
            "ticks": ""
           },
           "baxis": {
            "gridcolor": "white",
            "linecolor": "white",
            "ticks": ""
           },
           "bgcolor": "#E5ECF6",
           "caxis": {
            "gridcolor": "white",
            "linecolor": "white",
            "ticks": ""
           }
          },
          "title": {
           "x": 0.05
          },
          "xaxis": {
           "automargin": true,
           "gridcolor": "white",
           "linecolor": "white",
           "ticks": "",
           "title": {
            "standoff": 15
           },
           "zerolinecolor": "white",
           "zerolinewidth": 2
          },
          "yaxis": {
           "automargin": true,
           "gridcolor": "white",
           "linecolor": "white",
           "ticks": "",
           "title": {
            "standoff": 15
           },
           "zerolinecolor": "white",
           "zerolinewidth": 2
          }
         }
        }
       }
      },
      "text/html": [
       "<div>\n",
       "        \n",
       "        \n",
       "            <div id=\"04ebded5-b4d8-438c-9895-aeda854539b0\" class=\"plotly-graph-div\" style=\"height:525px; width:100%;\"></div>\n",
       "            <script type=\"text/javascript\">\n",
       "                require([\"plotly\"], function(Plotly) {\n",
       "                    window.PLOTLYENV=window.PLOTLYENV || {};\n",
       "                    \n",
       "                if (document.getElementById(\"04ebded5-b4d8-438c-9895-aeda854539b0\")) {\n",
       "                    Plotly.newPlot(\n",
       "                        '04ebded5-b4d8-438c-9895-aeda854539b0',\n",
       "                        [{\"mode\": \"markers\", \"type\": \"scatter3d\", \"x\": [1.0, 0.9792475210564969, 0.9178514149905888, 0.8183599245989672, 0.6849024400004521, 0.5230181084730104, 0.33942593237925484, 0.14174589725634046, -0.061817295362854206, -0.262814763741325, -0.4529041164186286, -0.6241957028171256, -0.7695800728569471, -0.883023054382162, -0.95981620122199, -0.996772217050833, -0.9923572439880433, -0.9467545253046645, -0.8618567999191831, -0.7411877443484259, -0.5897557226621226, -0.41384591454310704, -0.22075944916926946, -0.018510372154503518, 0.18450697707700792, 0.37986637199507933, 0.5594594291408053, 0.7158321462405541, 0.842494280256423, 0.9341887246502055, 0.9871097053688656, 0.9990607393363355, 0.9695457993910898, 0.8997899018725932, 0.7926882623697213, 0.6526861299196696, 0.48559428713386943, 0.29834787391040735, 0.09871854474461515, -0.10500809346346798, -0.30437637517455507, -0.4911115282522227, -0.6574631180319587, -0.7965267287855186, -0.9025305312049614, -0.9710748419350043, -0.9993147322454036, -0.9860781066780927, -0.931914350819809, -0.8390715290764524], \"y\": [0.0, 0.20266793654820095, 0.39692414892492234, 0.5747060412161792, 0.7286347834693504, 0.8523215697196184, 0.9406327851124867, 0.9899030763721239, 0.9980874821347183, 0.9648463089837632, 0.8915592304110037, 0.7812680235262638, 0.6385503202266021, 0.469329612777201, 0.28062939951435684, 0.0802816748428135, -0.12339813736217871, -0.3219563150726187, -0.5071517094845144, -0.6712977935519321, -0.8075816909683363, -0.9103469443107828, -0.9753282860670456, -0.9998286683840896, -0.9828312039256306, -0.9250413717382029, -0.8288577363730427, -0.6982723955653996, -0.5387052883861563, -0.3567792408989381, -0.16004508604325057, 0.04333173336868346, 0.2449100710119793, 0.4363234264718193, 0.6096271964908323, 0.7576284153927202, 0.8741842988197335, 0.9544571997387519, 0.9951153947776636, 0.9944713672636168, 0.9525518475314604, 0.8710967034823207, 0.7534867274396376, 0.6046033165061543, 0.4306258703827373, 0.23877531564403087, 0.03701440148506237, -0.1662827938487564, -0.3626784288265488, -0.5440211108893698], \"z\": [0.0, 0.20408163265306123, 0.40816326530612246, 0.6122448979591837, 0.8163265306122449, 1.0204081632653061, 1.2244897959183674, 1.4285714285714286, 1.6326530612244898, 1.836734693877551, 2.0408163265306123, 2.2448979591836737, 2.4489795918367347, 2.6530612244897958, 2.857142857142857, 3.0612244897959187, 3.2653061224489797, 3.4693877551020407, 3.673469387755102, 3.8775510204081636, 4.081632653061225, 4.285714285714286, 4.4897959183673475, 4.6938775510204085, 4.8979591836734695, 5.1020408163265305, 5.3061224489795915, 5.510204081632653, 5.714285714285714, 5.918367346938775, 6.122448979591837, 6.326530612244898, 6.530612244897959, 6.73469387755102, 6.938775510204081, 7.142857142857143, 7.346938775510204, 7.551020408163265, 7.755102040816327, 7.959183673469388, 8.16326530612245, 8.36734693877551, 8.571428571428571, 8.775510204081632, 8.979591836734695, 9.183673469387756, 9.387755102040817, 9.591836734693878, 9.795918367346939, 10.0]}],\n",
       "                        {\"template\": {\"data\": {\"bar\": [{\"error_x\": {\"color\": \"#2a3f5f\"}, \"error_y\": {\"color\": \"#2a3f5f\"}, \"marker\": {\"line\": {\"color\": \"#E5ECF6\", \"width\": 0.5}}, \"type\": \"bar\"}], \"barpolar\": [{\"marker\": {\"line\": {\"color\": \"#E5ECF6\", \"width\": 0.5}}, \"type\": \"barpolar\"}], \"carpet\": [{\"aaxis\": {\"endlinecolor\": \"#2a3f5f\", \"gridcolor\": \"white\", \"linecolor\": \"white\", \"minorgridcolor\": \"white\", \"startlinecolor\": \"#2a3f5f\"}, \"baxis\": {\"endlinecolor\": \"#2a3f5f\", \"gridcolor\": \"white\", \"linecolor\": \"white\", \"minorgridcolor\": \"white\", \"startlinecolor\": \"#2a3f5f\"}, \"type\": \"carpet\"}], \"choropleth\": [{\"colorbar\": {\"outlinewidth\": 0, \"ticks\": \"\"}, \"type\": \"choropleth\"}], \"contour\": [{\"colorbar\": {\"outlinewidth\": 0, \"ticks\": \"\"}, \"colorscale\": [[0.0, \"#0d0887\"], [0.1111111111111111, \"#46039f\"], [0.2222222222222222, \"#7201a8\"], [0.3333333333333333, \"#9c179e\"], [0.4444444444444444, \"#bd3786\"], [0.5555555555555556, \"#d8576b\"], [0.6666666666666666, \"#ed7953\"], [0.7777777777777778, \"#fb9f3a\"], [0.8888888888888888, \"#fdca26\"], [1.0, \"#f0f921\"]], \"type\": \"contour\"}], \"contourcarpet\": [{\"colorbar\": {\"outlinewidth\": 0, \"ticks\": \"\"}, \"type\": \"contourcarpet\"}], \"heatmap\": [{\"colorbar\": {\"outlinewidth\": 0, \"ticks\": \"\"}, \"colorscale\": [[0.0, \"#0d0887\"], [0.1111111111111111, \"#46039f\"], [0.2222222222222222, \"#7201a8\"], [0.3333333333333333, \"#9c179e\"], [0.4444444444444444, \"#bd3786\"], [0.5555555555555556, \"#d8576b\"], [0.6666666666666666, \"#ed7953\"], [0.7777777777777778, \"#fb9f3a\"], [0.8888888888888888, \"#fdca26\"], [1.0, \"#f0f921\"]], \"type\": \"heatmap\"}], \"heatmapgl\": [{\"colorbar\": {\"outlinewidth\": 0, \"ticks\": \"\"}, \"colorscale\": [[0.0, \"#0d0887\"], [0.1111111111111111, \"#46039f\"], [0.2222222222222222, \"#7201a8\"], [0.3333333333333333, \"#9c179e\"], [0.4444444444444444, \"#bd3786\"], [0.5555555555555556, \"#d8576b\"], [0.6666666666666666, \"#ed7953\"], [0.7777777777777778, \"#fb9f3a\"], [0.8888888888888888, \"#fdca26\"], [1.0, \"#f0f921\"]], \"type\": \"heatmapgl\"}], \"histogram\": [{\"marker\": {\"colorbar\": {\"outlinewidth\": 0, \"ticks\": \"\"}}, \"type\": \"histogram\"}], \"histogram2d\": [{\"colorbar\": {\"outlinewidth\": 0, \"ticks\": \"\"}, \"colorscale\": [[0.0, \"#0d0887\"], [0.1111111111111111, \"#46039f\"], [0.2222222222222222, \"#7201a8\"], [0.3333333333333333, \"#9c179e\"], [0.4444444444444444, \"#bd3786\"], [0.5555555555555556, \"#d8576b\"], [0.6666666666666666, \"#ed7953\"], [0.7777777777777778, \"#fb9f3a\"], [0.8888888888888888, \"#fdca26\"], [1.0, \"#f0f921\"]], \"type\": \"histogram2d\"}], \"histogram2dcontour\": [{\"colorbar\": {\"outlinewidth\": 0, \"ticks\": \"\"}, \"colorscale\": [[0.0, \"#0d0887\"], [0.1111111111111111, \"#46039f\"], [0.2222222222222222, \"#7201a8\"], [0.3333333333333333, \"#9c179e\"], [0.4444444444444444, \"#bd3786\"], [0.5555555555555556, \"#d8576b\"], [0.6666666666666666, \"#ed7953\"], [0.7777777777777778, \"#fb9f3a\"], [0.8888888888888888, \"#fdca26\"], [1.0, \"#f0f921\"]], \"type\": \"histogram2dcontour\"}], \"mesh3d\": [{\"colorbar\": {\"outlinewidth\": 0, \"ticks\": \"\"}, \"type\": \"mesh3d\"}], \"parcoords\": [{\"line\": {\"colorbar\": {\"outlinewidth\": 0, \"ticks\": \"\"}}, \"type\": \"parcoords\"}], \"pie\": [{\"automargin\": true, \"type\": \"pie\"}], \"scatter\": [{\"marker\": {\"colorbar\": {\"outlinewidth\": 0, \"ticks\": \"\"}}, \"type\": \"scatter\"}], \"scatter3d\": [{\"line\": {\"colorbar\": {\"outlinewidth\": 0, \"ticks\": \"\"}}, \"marker\": {\"colorbar\": {\"outlinewidth\": 0, \"ticks\": \"\"}}, \"type\": \"scatter3d\"}], \"scattercarpet\": [{\"marker\": {\"colorbar\": {\"outlinewidth\": 0, \"ticks\": \"\"}}, \"type\": \"scattercarpet\"}], \"scattergeo\": [{\"marker\": {\"colorbar\": {\"outlinewidth\": 0, \"ticks\": \"\"}}, \"type\": \"scattergeo\"}], \"scattergl\": [{\"marker\": {\"colorbar\": {\"outlinewidth\": 0, \"ticks\": \"\"}}, \"type\": \"scattergl\"}], \"scattermapbox\": [{\"marker\": {\"colorbar\": {\"outlinewidth\": 0, \"ticks\": \"\"}}, \"type\": \"scattermapbox\"}], \"scatterpolar\": [{\"marker\": {\"colorbar\": {\"outlinewidth\": 0, \"ticks\": \"\"}}, \"type\": \"scatterpolar\"}], \"scatterpolargl\": [{\"marker\": {\"colorbar\": {\"outlinewidth\": 0, \"ticks\": \"\"}}, \"type\": \"scatterpolargl\"}], \"scatterternary\": [{\"marker\": {\"colorbar\": {\"outlinewidth\": 0, \"ticks\": \"\"}}, \"type\": \"scatterternary\"}], \"surface\": [{\"colorbar\": {\"outlinewidth\": 0, \"ticks\": \"\"}, \"colorscale\": [[0.0, \"#0d0887\"], [0.1111111111111111, \"#46039f\"], [0.2222222222222222, \"#7201a8\"], [0.3333333333333333, \"#9c179e\"], [0.4444444444444444, \"#bd3786\"], [0.5555555555555556, \"#d8576b\"], [0.6666666666666666, \"#ed7953\"], [0.7777777777777778, \"#fb9f3a\"], [0.8888888888888888, \"#fdca26\"], [1.0, \"#f0f921\"]], \"type\": \"surface\"}], \"table\": [{\"cells\": {\"fill\": {\"color\": \"#EBF0F8\"}, \"line\": {\"color\": \"white\"}}, \"header\": {\"fill\": {\"color\": \"#C8D4E3\"}, \"line\": {\"color\": \"white\"}}, \"type\": \"table\"}]}, \"layout\": {\"annotationdefaults\": {\"arrowcolor\": \"#2a3f5f\", \"arrowhead\": 0, \"arrowwidth\": 1}, \"coloraxis\": {\"colorbar\": {\"outlinewidth\": 0, \"ticks\": \"\"}}, \"colorscale\": {\"diverging\": [[0, \"#8e0152\"], [0.1, \"#c51b7d\"], [0.2, \"#de77ae\"], [0.3, \"#f1b6da\"], [0.4, \"#fde0ef\"], [0.5, \"#f7f7f7\"], [0.6, \"#e6f5d0\"], [0.7, \"#b8e186\"], [0.8, \"#7fbc41\"], [0.9, \"#4d9221\"], [1, \"#276419\"]], \"sequential\": [[0.0, \"#0d0887\"], [0.1111111111111111, \"#46039f\"], [0.2222222222222222, \"#7201a8\"], [0.3333333333333333, \"#9c179e\"], [0.4444444444444444, \"#bd3786\"], [0.5555555555555556, \"#d8576b\"], [0.6666666666666666, \"#ed7953\"], [0.7777777777777778, \"#fb9f3a\"], [0.8888888888888888, \"#fdca26\"], [1.0, \"#f0f921\"]], \"sequentialminus\": [[0.0, \"#0d0887\"], [0.1111111111111111, \"#46039f\"], [0.2222222222222222, \"#7201a8\"], [0.3333333333333333, \"#9c179e\"], [0.4444444444444444, \"#bd3786\"], [0.5555555555555556, \"#d8576b\"], [0.6666666666666666, \"#ed7953\"], [0.7777777777777778, \"#fb9f3a\"], [0.8888888888888888, \"#fdca26\"], [1.0, \"#f0f921\"]]}, \"colorway\": [\"#636efa\", \"#EF553B\", \"#00cc96\", \"#ab63fa\", \"#FFA15A\", \"#19d3f3\", \"#FF6692\", \"#B6E880\", \"#FF97FF\", \"#FECB52\"], \"font\": {\"color\": \"#2a3f5f\"}, \"geo\": {\"bgcolor\": \"white\", \"lakecolor\": \"white\", \"landcolor\": \"#E5ECF6\", \"showlakes\": true, \"showland\": true, \"subunitcolor\": \"white\"}, \"hoverlabel\": {\"align\": \"left\"}, \"hovermode\": \"closest\", \"mapbox\": {\"style\": \"light\"}, \"paper_bgcolor\": \"white\", \"plot_bgcolor\": \"#E5ECF6\", \"polar\": {\"angularaxis\": {\"gridcolor\": \"white\", \"linecolor\": \"white\", \"ticks\": \"\"}, \"bgcolor\": \"#E5ECF6\", \"radialaxis\": {\"gridcolor\": \"white\", \"linecolor\": \"white\", \"ticks\": \"\"}}, \"scene\": {\"xaxis\": {\"backgroundcolor\": \"#E5ECF6\", \"gridcolor\": \"white\", \"gridwidth\": 2, \"linecolor\": \"white\", \"showbackground\": true, \"ticks\": \"\", \"zerolinecolor\": \"white\"}, \"yaxis\": {\"backgroundcolor\": \"#E5ECF6\", \"gridcolor\": \"white\", \"gridwidth\": 2, \"linecolor\": \"white\", \"showbackground\": true, \"ticks\": \"\", \"zerolinecolor\": \"white\"}, \"zaxis\": {\"backgroundcolor\": \"#E5ECF6\", \"gridcolor\": \"white\", \"gridwidth\": 2, \"linecolor\": \"white\", \"showbackground\": true, \"ticks\": \"\", \"zerolinecolor\": \"white\"}}, \"shapedefaults\": {\"line\": {\"color\": \"#2a3f5f\"}}, \"ternary\": {\"aaxis\": {\"gridcolor\": \"white\", \"linecolor\": \"white\", \"ticks\": \"\"}, \"baxis\": {\"gridcolor\": \"white\", \"linecolor\": \"white\", \"ticks\": \"\"}, \"bgcolor\": \"#E5ECF6\", \"caxis\": {\"gridcolor\": \"white\", \"linecolor\": \"white\", \"ticks\": \"\"}}, \"title\": {\"x\": 0.05}, \"xaxis\": {\"automargin\": true, \"gridcolor\": \"white\", \"linecolor\": \"white\", \"ticks\": \"\", \"title\": {\"standoff\": 15}, \"zerolinecolor\": \"white\", \"zerolinewidth\": 2}, \"yaxis\": {\"automargin\": true, \"gridcolor\": \"white\", \"linecolor\": \"white\", \"ticks\": \"\", \"title\": {\"standoff\": 15}, \"zerolinecolor\": \"white\", \"zerolinewidth\": 2}}}},\n",
       "                        {\"responsive\": true}\n",
       "                    ).then(function(){\n",
       "                            \n",
       "var gd = document.getElementById('04ebded5-b4d8-438c-9895-aeda854539b0');\n",
       "var x = new MutationObserver(function (mutations, observer) {{\n",
       "        var display = window.getComputedStyle(gd).display;\n",
       "        if (!display || display === 'none') {{\n",
       "            console.log([gd, 'removed!']);\n",
       "            Plotly.purge(gd);\n",
       "            observer.disconnect();\n",
       "        }}\n",
       "}});\n",
       "\n",
       "// Listen for the removal of the full notebook cells\n",
       "var notebookContainer = gd.closest('#notebook-container');\n",
       "if (notebookContainer) {{\n",
       "    x.observe(notebookContainer, {childList: true});\n",
       "}}\n",
       "\n",
       "// Listen for the clearing of the current output cell\n",
       "var outputEl = gd.closest('.output');\n",
       "if (outputEl) {{\n",
       "    x.observe(outputEl, {childList: true});\n",
       "}}\n",
       "\n",
       "                        })\n",
       "                };\n",
       "                });\n",
       "            </script>\n",
       "        </div>"
      ]
     },
     "metadata": {},
     "output_type": "display_data"
    }
   ],
   "source": []
  }
 ],
 "metadata": {
  "kernelspec": {
   "display_name": "Python 3",
   "language": "python",
   "name": "python3"
  },
  "language_info": {
   "codemirror_mode": {
    "name": "ipython",
    "version": 3
   },
   "file_extension": ".py",
   "mimetype": "text/x-python",
   "name": "python",
   "nbconvert_exporter": "python",
   "pygments_lexer": "ipython3",
   "version": "3.7.6"
  }
 },
 "nbformat": 4,
 "nbformat_minor": 4
}
