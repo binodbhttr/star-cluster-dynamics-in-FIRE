{
 "cells": [
  {
   "cell_type": "code",
   "execution_count": 12,
   "metadata": {},
   "outputs": [
    {
     "name": "stdout",
     "output_type": "stream",
     "text": [
      "['sf-fire3-alpha03.gif', 'sf-fire3-alpha01.gif', 'fire2_PIL.gif', 'fire3_PIL.gif']\n"
     ]
    },
    {
     "data": {
      "text/plain": [
       "<matplotlib.image.AxesImage at 0x7fa07c9428d0>"
      ]
     },
     "execution_count": 12,
     "metadata": {},
     "output_type": "execute_result"
    },
    {
     "data": {
      "image/png": "[encoded data removed]",
      "text/plain": [
       "<Figure size 432x288 with 4 Axes>"
      ]
     },
     "metadata": {
      "needs_background": "light"
     },
     "output_type": "display_data"
    }
   ],
   "source": [
    "from PIL import Image\n",
    "import glob  #use it if you want to read all certain file type\n",
    "from matplotlib import pyplot as plt\n",
    "imgs=glob.glob(\"*.gif\")\n",
    "import numpy as np\n",
    "print(imgs)\n",
    "\n",
    "fig1=plt.figure()\n",
    "ax1=fig1.add_subplot(2,2,1)\n",
    "ax2=fig1.add_subplot(2,2,2)\n",
    "ax3=fig1.add_subplot(2,2,3)\n",
    "ax4=fig1.add_subplot(2,2,4)\n",
    "a=Image.open(imgs[0])\n",
    "im = np.array(Image.open(imgs[0])).astype(np.float) / 255\n",
    "ax1.imshow(a)"
   ]
  },
  {
   "cell_type": "code",
   "execution_count": 15,
   "metadata": {},
   "outputs": [],
   "source": [
    "import imageio\n",
    "import numpy as np    \n",
    "\n",
    "#Create reader object for the gif\n",
    "gif1 = imageio.get_reader('fire2_PIL.gif')\n",
    "gif2 = imageio.get_reader('fire3_PIL.gif')\n",
    "\n",
    "#If they don't have the same number of frame take the shorter\n",
    "number_of_frames = min(gif1.get_length(), gif2.get_length()) \n",
    "\n",
    "#Create writer object\n",
    "new_gif = imageio.get_writer('output.gif')\n",
    "\n",
    "for frame_number in range(number_of_frames):\n",
    "    img1 = gif1.get_next_data()\n",
    "    img2 = gif2.get_next_data()\n",
    "    #here is the magic\n",
    "    new_image = np.hstack((img1, img2))\n",
    "    new_gif.append_data(new_image)\n",
    "\n",
    "gif1.close()\n",
    "gif2.close()    \n",
    "new_gif.close()"
   ]
  },
  {
   "cell_type": "code",
   "execution_count": 4,
   "metadata": {},
   "outputs": [
    {
     "name": "stdout",
     "output_type": "stream",
     "text": [
      "(1556, 1556, 1255) (1061, 1061, 1061)\n",
      "(1556, 1061)\n"
     ]
    }
   ],
   "source": [
    "import sys\n",
    "from PIL import Image\n",
    "\n",
    "\n",
    "\n",
    "images = [Image.open(x) for x in ['fire2_PIL.gif', 'fire3_PIL.gif', 'sf-fire3-alpha01.gif']]\n",
    "widths, heights = zip(*(i.size for i in images))\n",
    "print(widths,heights)\n",
    "print(images[0].size)\n",
    "total_width = sum(widths)\n",
    "max_height = max(heights)\n",
    "\n",
    "new_im = Image.new('RGB', (total_width, max_height))\n",
    "\n",
    "x_offset = 0\n",
    "for im in images:\n",
    "  new_im.paste(im, (x_offset,0))\n",
    "  x_offset += im.size[0]\n",
    "\n",
    "new_im.save('test.jpg')\n",
    "new_im.show()"
   ]
  }
 ],
 "metadata": {
  "kernelspec": {
   "display_name": "Python 3",
   "language": "python",
   "name": "python3"
  },
  "language_info": {
   "codemirror_mode": {
    "name": "ipython",
    "version": 3
   },
   "file_extension": ".py",
   "mimetype": "text/x-python",
   "name": "python",
   "nbconvert_exporter": "python",
   "pygments_lexer": "ipython3",
   "version": "3.7.6"
  }
 },
 "nbformat": 4,
 "nbformat_minor": 4
}
