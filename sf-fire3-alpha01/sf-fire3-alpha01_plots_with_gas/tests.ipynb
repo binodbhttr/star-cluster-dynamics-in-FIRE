{
 "cells": [
  {
   "cell_type": "code",
   "execution_count": 175,
   "metadata": {},
   "outputs": [
    {
     "name": "stdout",
     "output_type": "stream",
     "text": [
      "[0.    0.    0.502 1.   ]\n",
      "[[0.        0.0551295 1.        1.       ]]\n",
      "[[0.        0.0551295 1.        1.       ]]\n"
     ]
    }
   ],
   "source": [
    "import numpy as np\n",
    "from matplotlib import pyplot as plt\n",
    "from time import sleep \n",
    "import os\n",
    "\n",
    "total_clusters=10\n",
    "cmap = plt.get_cmap(\"gist_ncar\")\n",
    "colors = iter(cmap(np.linspace(0,1,total_clusters)))\n",
    "colors_new = cmap(np.linspace(0,1,total_clusters).reshape(1,-1)) #number of clusters\n",
    "print(next(colors))\n",
    "print(next(colors).reshape(1,-1))\n",
    "print(colors_new[0][1].reshape(1,-1))\n",
    "#print(next(colors_new))"
   ]
  },
  {
   "cell_type": "code",
   "execution_count": 109,
   "metadata": {},
   "outputs": [
    {
     "name": "stdout",
     "output_type": "stream",
     "text": [
      "[0.         0.11111111 0.22222222 0.33333333 0.44444444 0.55555556\n",
      " 0.66666667 0.77777778 0.88888889 1.        ]\n",
      "hello\r"
     ]
    }
   ],
   "source": [
    "\n"
   ]
  },
  {
   "cell_type": "code",
   "execution_count": 112,
   "metadata": {},
   "outputs": [
    {
     "name": "stdout",
     "output_type": "stream",
     "text": [
      "[[0.         0.11111111 0.22222222 0.33333333 0.44444444 0.55555556\n",
      "  0.66666667 0.77777778 0.88888889 1.        ]]\n",
      "<class 'numpy.ndarray'>\n",
      "[0.         0.11111111 0.22222222 0.33333333 0.44444444 0.55555556\n",
      " 0.66666667 0.77777778 0.88888889 1.        ]\n",
      "<class 'numpy.ndarray'>\n"
     ]
    }
   ],
   "source": [
    "a=np.linspace(0,1,total_clusters)\n",
    "print(a)\n",
    "#print(a,end=\"\\r\",flush=True)\n",
    "#os.system('cls')\n",
    "#print(a,a)\n",
    "for i in range(100):\n",
    "    #sleep(1)\n",
    "    print(\"hello\",end=\"\\r\",flush=True)\n",
    "    #print(\"hello\")\n",
    "\n",
    "c=np.linspace(0,1,total_clusters).reshape(1,-1)\n",
    "print(c)\n",
    "print(type(c))\n",
    "a=np.linspace(0,1,total_clusters)\n",
    "print(a)\n",
    "print(type(a))"
   ]
  }
 ],
 "metadata": {
  "kernelspec": {
   "display_name": "Python 3",
   "language": "python",
   "name": "python3"
  },
  "language_info": {
   "codemirror_mode": {
    "name": "ipython",
    "version": 3
   },
   "file_extension": ".py",
   "mimetype": "text/x-python",
   "name": "python",
   "nbconvert_exporter": "python",
   "pygments_lexer": "ipython3",
   "version": "3.7.6"
  }
 },
 "nbformat": 4,
 "nbformat_minor": 4
}
